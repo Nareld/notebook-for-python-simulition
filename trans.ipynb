{
 "cells": [
  {
   "cell_type": "code",
   "execution_count": 2,
   "id": "59997f6d",
   "metadata": {
    "scrolled": true
   },
   "outputs": [
    {
     "name": "stdout",
     "output_type": "stream",
     "text": [
      "Primary current: 4.545454545454546 A\n",
      "Secondary current: 9.090909090909092 A\n",
      "Primary impedance: 48.4 ohms\n",
      "Secondary impedance: 12.1 ohms\n",
      "Magnetizing current: 1.6070608663330626 A\n",
      "Magnetizing reactance: 0.43575309702003934 ohms\n"
     ]
    }
   ],
   "source": [
    "import numpy as np\n",
    "\n",
    "class Transformer:\n",
    "    def __init__(self, primary_voltage, secondary_voltage, turns_ratio, apparent_power, frequency=50):\n",
    "        self.primary_voltage = primary_voltage\n",
    "        self.secondary_voltage = secondary_voltage\n",
    "        self.turns_ratio = turns_ratio\n",
    "        self.apparent_power = apparent_power\n",
    "        self.frequency = frequency\n",
    "\n",
    "    def primary_current(self):\n",
    "        return self.apparent_power / self.primary_voltage\n",
    "\n",
    "    def secondary_current(self):\n",
    "        return self.apparent_power / self.secondary_voltage\n",
    "\n",
    "    def primary_impedance(self):\n",
    "        return self.primary_voltage / self.primary_current()\n",
    "\n",
    "    def secondary_impedance(self):\n",
    "        return self.secondary_voltage / self.secondary_current()\n",
    "\n",
    "    def magnetizing_current(self):\n",
    "        return self.primary_current() / (self.turns_ratio * np.sqrt(2))\n",
    "\n",
    "    def magnetizing_reactance(self):\n",
    "        return self.primary_voltage / (2 * np.pi * self.frequency * self.magnetizing_current())\n",
    "\n",
    "# 创建一个变压器实例\n",
    "primary_voltage = 220  # V\n",
    "secondary_voltage = 110  # V\n",
    "turns_ratio = 2\n",
    "apparent_power = 1000  # VA\n",
    "frequency = 50  # Hz\n",
    "\n",
    "transformer = Transformer(primary_voltage, secondary_voltage, turns_ratio, apparent_power, frequency)\n",
    "\n",
    "# 计算变压器参数\n",
    "print(\"Primary current:\", transformer.primary_current(), \"A\")\n",
    "print(\"Secondary current:\", transformer.secondary_current(), \"A\")\n",
    "print(\"Primary impedance:\", transformer.primary_impedance(), \"ohms\")\n",
    "print(\"Secondary impedance:\", transformer.secondary_impedance(), \"ohms\")\n",
    "print(\"Magnetizing current:\", transformer.magnetizing_current(), \"A\")\n",
    "print(\"Magnetizing reactance:\", transformer.magnetizing_reactance(), \"ohms\")\n"
   ]
  },
  {
   "cell_type": "markdown",
   "id": "4ddbd7ce",
   "metadata": {},
   "source": [
    "简单的变压器建模，没有磁损。"
   ]
  },
  {
   "cell_type": "code",
   "execution_count": 6,
   "id": "d195fe7e",
   "metadata": {},
   "outputs": [
    {
     "name": "stdout",
     "output_type": "stream",
     "text": [
      "Input electromotive force: (-1387.106320878517+160.61517754239716j) V\n"
     ]
    }
   ],
   "source": [
    "import numpy as np\n",
    "import cmath\n",
    "\n",
    "class TransformerWithLosses:\n",
    "    def __init__(self, primary_voltage, secondary_voltage, turns_ratio, apparent_power, frequency=50, R1=0.01, X1=0.01, Rc=1000, Xm=100):\n",
    "        self.primary_voltage = primary_voltage\n",
    "        self.secondary_voltage = secondary_voltage\n",
    "        self.turns_ratio = turns_ratio\n",
    "        self.apparent_power = apparent_power\n",
    "        self.frequency = frequency\n",
    "        self.R1 = R1\n",
    "        self.X1 = X1\n",
    "        self.Rc = Rc\n",
    "        self.Xm = Xm\n",
    "\n",
    "    def primary_current(self):\n",
    "        return self.apparent_power / self.primary_voltage\n",
    "\n",
    "    def secondary_current(self):\n",
    "        return self.apparent_power / self.secondary_voltage\n",
    "\n",
    "    def magnetizing_current(self):\n",
    "        return self.primary_current() / (self.turns_ratio * np.sqrt(2))\n",
    "\n",
    "    def primary_impedance(self):\n",
    "        return complex(self.R1, self.X1)\n",
    "\n",
    "    def core_loss_impedance(self):\n",
    "        return complex(self.Rc, -self.Xm)\n",
    "\n",
    "    def input_electromotive_force(self):\n",
    "        V1 = complex(self.primary_voltage, 0)\n",
    "        I1 = complex(self.primary_current(), 0)\n",
    "        Z1 = self.primary_impedance()\n",
    "        Ic = self.magnetizing_current()\n",
    "        Zc = self.core_loss_impedance()\n",
    "\n",
    "        E1 = V1 - I1 * Z1 - Ic * Zc# 问题来了，这里使用I1合理吗\n",
    "        return E1\n",
    "\n",
    "# 创建一个变压器实例\n",
    "primary_voltage = 220  # V\n",
    "secondary_voltage = 110  # V\n",
    "turns_ratio = 2\n",
    "apparent_power = 1000  # VA\n",
    "frequency = 50  # Hz\n",
    "R1 = 0.01  # ohms\n",
    "X1 = 0.02  # ohms\n",
    "Rc = 1000  # ohms\n",
    "Xm = 100  # ohms\n",
    "\n",
    "transformer = TransformerWithLosses(primary_voltage, secondary_voltage, turns_ratio, apparent_power, frequency, R1, X1, Rc, Xm)\n",
    "\n",
    "# 计算输入侧电动势\n",
    "E1 = transformer.input_electromotive_force()\n",
    "print(\"Input electromotive force:\", E1, \"V\")\n"
   ]
  },
  {
   "cell_type": "markdown",
   "id": "72c59e21",
   "metadata": {},
   "source": [
    "考虑磁损的变压器建模。"
   ]
  },
  {
   "cell_type": "code",
   "execution_count": null,
   "id": "82cf749a",
   "metadata": {},
   "outputs": [],
   "source": []
  }
 ],
 "metadata": {
  "kernelspec": {
   "display_name": "Python 3 (ipykernel)",
   "language": "python",
   "name": "python3"
  },
  "language_info": {
   "codemirror_mode": {
    "name": "ipython",
    "version": 3
   },
   "file_extension": ".py",
   "mimetype": "text/x-python",
   "name": "python",
   "nbconvert_exporter": "python",
   "pygments_lexer": "ipython3",
   "version": "3.7.9"
  }
 },
 "nbformat": 4,
 "nbformat_minor": 5
}
